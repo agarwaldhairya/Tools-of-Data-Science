{
  "nbformat": 4,
  "nbformat_minor": 0,
  "metadata": {
    "colab": {
      "provenance": []
    },
    "kernelspec": {
      "name": "python3",
      "display_name": "Python 3"
    },
    "language_info": {
      "name": "python"
    }
  },
  "cells": [
    {
      "cell_type": "markdown",
      "source": [
        "# Data Science Tools and Ecosystem"
      ],
      "metadata": {
        "id": "YA6wZcheTZ-n"
      }
    },
    {
      "cell_type": "markdown",
      "source": [
        "In this notebook, Data Science Tools and Ecosystem are summarized."
      ],
      "metadata": {
        "id": "Vq4X4XvOUDbC"
      }
    },
    {
      "cell_type": "markdown",
      "source": [
        "**Objectives:**\n",
        "- Different Programming Languages in Data Science\n",
        "- Libraries in these languages\n",
        "- Jupyter Notebook tutorials\n",
        "- Git and GitHub tutorials"
      ],
      "metadata": {
        "id": "sG-9rU47bZNs"
      }
    },
    {
      "cell_type": "markdown",
      "source": [
        "Some of the popular languages that Data Scientists use are:\n",
        "1. Python\n",
        "2. R\n",
        "3. Scala"
      ],
      "metadata": {
        "id": "5go8Utb9UOIG"
      }
    },
    {
      "cell_type": "markdown",
      "source": [
        "Some of the commonly used libraries used by Data Scientists include:\n",
        "1. Pandas\n",
        "2. Matplotlib\n",
        "3. NumPy"
      ],
      "metadata": {
        "id": "Zk70uSNFUcbT"
      }
    },
    {
      "cell_type": "markdown",
      "source": [
        "Data Science Tools |  \n",
        "-------------------|\n",
        "Juypter Notebook   |  \n",
        "Apache Spark       |  \n",
        "Apache Hadoop\n"
      ],
      "metadata": {
        "id": "4-LAysjeUz4Z"
      }
    },
    {
      "cell_type": "markdown",
      "source": [
        "### Below are a few examples of evaluating arithmetic expressions in Python.\n"
      ],
      "metadata": {
        "id": "WAgp4ENAYCUt"
      }
    },
    {
      "cell_type": "code",
      "source": [
        "(3*4)+5\n",
        "#This a simple arithmetic expression to mutiply then add integers"
      ],
      "metadata": {
        "colab": {
          "base_uri": "https://localhost:8080/"
        },
        "id": "kp0yc76XYPLX",
        "outputId": "366a28cf-038d-4def-ac09-ddc17d5799f2"
      },
      "execution_count": 1,
      "outputs": [
        {
          "output_type": "execute_result",
          "data": {
            "text/plain": [
              "17"
            ]
          },
          "metadata": {},
          "execution_count": 1
        }
      ]
    },
    {
      "cell_type": "code",
      "source": [
        "minutes = 200\n",
        "hours = minutes/60\n",
        "hours\n",
        "#This will convert 200 minutes to hours by diving by 60"
      ],
      "metadata": {
        "colab": {
          "base_uri": "https://localhost:8080/"
        },
        "id": "So-XBG3TYcYv",
        "outputId": "e0b9d946-5172-4510-973a-7c47cb5b3946"
      },
      "execution_count": 2,
      "outputs": [
        {
          "output_type": "execute_result",
          "data": {
            "text/plain": [
              "3.3333333333333335"
            ]
          },
          "metadata": {},
          "execution_count": 2
        }
      ]
    },
    {
      "cell_type": "markdown",
      "source": [
        "## Author\n",
        "Dhairya"
      ],
      "metadata": {
        "id": "iwNkRVRtcwEw"
      }
    }
  ]
}